{
 "cells": [
  {
   "cell_type": "code",
   "execution_count": 1,
   "metadata": {},
   "outputs": [],
   "source": [
    "import numpy as np\n",
    "import os\n",
    "from tqdm import tqdm_notebook\n",
    "import h5py\n",
    "import time\n",
    "from sklearn.model_selection import train_test_split\n",
    "import gc\n",
    "import tensorflow as tf\n",
    "\n",
    "from tensorflow.keras.utils import to_categorical\n",
    "from tensorflow.keras.models import Sequential\n",
    "from tensorflow.keras.layers import Dense, Conv2D, Flatten, MaxPooling2D\n",
    "from tensorflow.keras.layers import Dropout, BatchNormalization\n",
    "from tensorflow.keras.layers import Activation\n",
    "\n",
    "from tensorflow.keras.callbacks import ModelCheckpoint, LearningRateScheduler, TensorBoard"
   ]
  },
  {
   "cell_type": "code",
   "execution_count": 2,
   "metadata": {},
   "outputs": [],
   "source": [
    "seed = 0\n",
    "num_categories = 20\n",
    "num_epochs = 500\n",
    "batch_size = 64"
   ]
  },
  {
   "cell_type": "code",
   "execution_count": 3,
   "metadata": {},
   "outputs": [],
   "source": [
    "def scheduler(epoch):\n",
    "    if epoch < 200:\n",
    "        return 0.01\n",
    "    if epoch < 400:\n",
    "        return 0.005\n",
    "    return 0.001\n",
    "\n",
    "# Callback for tensorboard\n",
    "tb_cb = TensorBoard(log_dir='./age_cnn', histogram_freq=0)\n",
    "\n",
    "checkpoint_path = \"training_1/cp.ckpt\"\n",
    "checkpoint_dir = os.path.dirname(checkpoint_path)\n",
    "\n",
    "# Create a callback that saves the model's weights\n",
    "cp_cb = tf.keras.callbacks.ModelCheckpoint(filepath=checkpoint_path,\n",
    "                                           save_weights_only=True,\n",
    "                                           verbose=1,\n",
    "                                           epochs_pr_checkpoint=50)\n",
    "\n",
    "# callback for learning rate \n",
    "change_lr_cb = LearningRateScheduler(scheduler)\n",
    "\n",
    "cbks = [cp_cb, tb_cb, change_lr_cb]"
   ]
  },
  {
   "cell_type": "code",
   "execution_count": 4,
   "metadata": {},
   "outputs": [],
   "source": [
    "def categorize(ages,categories=20):\n",
    "    ages_copy=np.array(ages,copy=True)\n",
    "    for i in range(len(ages)):\n",
    "        if ages_copy[i] < 0:\n",
    "            ages_copy[i] = 0\n",
    "        elif ages_copy[i] > 99:\n",
    "            ages_copy[i] = categories+1\n",
    "        else:\n",
    "            ages_copy[i] = ages_copy[i]//(100/categories)+1\n",
    "    categorical = to_categorical(ages_copy)\n",
    "    return categorical"
   ]
  },
  {
   "cell_type": "code",
   "execution_count": 5,
   "metadata": {},
   "outputs": [],
   "source": [
    "def load_data():\n",
    "    with h5py.File('imdb_preprocesed_1.hdf5', 'r') as f:\n",
    "        i1_ages = np.array(f.get('ages'))\n",
    "        i1_images = np.array(f.get('images'))\n",
    "\n",
    "    print(\"Part 1 done!\")\n",
    "\n",
    "    with h5py.File('imdb_preprocesed_2.hdf5', 'r') as f:\n",
    "        i2_ages = np.array(f.get('ages'))\n",
    "        i2_images = np.array(f.get('images'))\n",
    "\n",
    "    print(\"Part 2 done!\")\n",
    "\n",
    "    with h5py.File('wiki_preprocesed.hdf5', 'r') as f:\n",
    "        w_ages = np.array(f.get('ages'))\n",
    "        w_images = np.array(f.get('images'))\n",
    "\n",
    "    print(\"Load done!\\nCreating dataset\")\n",
    "    gc.collect()\n",
    "    \n",
    "    images = np.concatenate([i1_images,i2_images, w_images])\n",
    "    ages = np.concatenate([i1_ages, i2_ages, w_ages])\n",
    "    \n",
    "    ages = categorize(ages, categories=num_categories)\n",
    "    \n",
    "    x_train, x_test, y_train, y_test = train_test_split(images, ages, test_size = 0.1, random_state=seed)\n",
    "    print(\"All done!\")\n",
    "    gc.collect()\n",
    "    return x_train, x_test, y_train, y_test"
   ]
  },
  {
   "cell_type": "code",
   "execution_count": 6,
   "metadata": {},
   "outputs": [
    {
     "name": "stdout",
     "output_type": "stream",
     "text": [
      "Part 1 done!\n",
      "Part 2 done!\n",
      "Load done!\n",
      "Creating dataset\n",
      "All done!\n"
     ]
    }
   ],
   "source": [
    "# load and split the data\n",
    "x_train, x_test, y_train, y_test = load_data()\n",
    "\n",
    "# split the training in train and validation\n",
    "x_train, x_val, y_train, y_val = train_test_split(x_train, y_train, test_size = 0.1, random_state=seed)"
   ]
  },
  {
   "cell_type": "code",
   "execution_count": 7,
   "metadata": {},
   "outputs": [],
   "source": [
    "def createConvModel(inputDimensions, outputDimensions):\n",
    "    model = Sequential()\n",
    "    \n",
    "    # Convblock 1\n",
    "    model.add(Conv2D(64, kernel_size=3, padding='same', input_shape=inputDimensions))\n",
    "    model.add(BatchNormalization())\n",
    "    model.add(Activation('relu'))\n",
    "\n",
    "    model.add(Conv2D(64, kernel_size=3, padding='same', input_shape=inputDimensions))\n",
    "    model.add(BatchNormalization())\n",
    "    model.add(Activation('relu'))\n",
    "        \n",
    "    model.add(MaxPooling2D(pool_size=(2,2)))\n",
    "    \n",
    "    # Convblock 2\n",
    "    model.add(Conv2D(128, kernel_size=3, padding='same', input_shape=inputDimensions))\n",
    "    model.add(BatchNormalization())\n",
    "    model.add(Activation('relu'))\n",
    "\n",
    "    model.add(Conv2D(128, kernel_size=3, padding='same', input_shape=inputDimensions))\n",
    "    model.add(BatchNormalization())\n",
    "    model.add(Activation('relu'))\n",
    "    \n",
    "    model.add(MaxPooling2D(pool_size=(2,2)))\n",
    "    \n",
    "    # Dense finale\n",
    "    model.add(Flatten())\n",
    "    \n",
    "    #model.add(Dense(100, activation=\"relu\"))\n",
    "    model.add(Dense(outputDimensions, activation=\"softmax\"))\n",
    "    \n",
    "    model.compile(optimizer='adam', loss='categorical_crossentropy', metrics=['accuracy'])\n",
    "    return model"
   ]
  },
  {
   "cell_type": "code",
   "execution_count": null,
   "metadata": {},
   "outputs": [],
   "source": [
    "x_test.shape"
   ]
  },
  {
   "cell_type": "code",
   "execution_count": 8,
   "metadata": {},
   "outputs": [],
   "source": [
    "model = createConvModel(x_train[0].shape, y_train.shape[1]) "
   ]
  },
  {
   "cell_type": "code",
   "execution_count": 9,
   "metadata": {},
   "outputs": [
    {
     "name": "stdout",
     "output_type": "stream",
     "text": [
      "Model: \"sequential\"\n",
      "_________________________________________________________________\n",
      "Layer (type)                 Output Shape              Param #   \n",
      "=================================================================\n",
      "conv2d (Conv2D)              (None, 64, 64, 64)        1792      \n",
      "_________________________________________________________________\n",
      "batch_normalization (BatchNo (None, 64, 64, 64)        256       \n",
      "_________________________________________________________________\n",
      "activation (Activation)      (None, 64, 64, 64)        0         \n",
      "_________________________________________________________________\n",
      "conv2d_1 (Conv2D)            (None, 64, 64, 64)        36928     \n",
      "_________________________________________________________________\n",
      "batch_normalization_1 (Batch (None, 64, 64, 64)        256       \n",
      "_________________________________________________________________\n",
      "activation_1 (Activation)    (None, 64, 64, 64)        0         \n",
      "_________________________________________________________________\n",
      "max_pooling2d (MaxPooling2D) (None, 32, 32, 64)        0         \n",
      "_________________________________________________________________\n",
      "conv2d_2 (Conv2D)            (None, 32, 32, 128)       73856     \n",
      "_________________________________________________________________\n",
      "batch_normalization_2 (Batch (None, 32, 32, 128)       512       \n",
      "_________________________________________________________________\n",
      "activation_2 (Activation)    (None, 32, 32, 128)       0         \n",
      "_________________________________________________________________\n",
      "conv2d_3 (Conv2D)            (None, 32, 32, 128)       147584    \n",
      "_________________________________________________________________\n",
      "batch_normalization_3 (Batch (None, 32, 32, 128)       512       \n",
      "_________________________________________________________________\n",
      "activation_3 (Activation)    (None, 32, 32, 128)       0         \n",
      "_________________________________________________________________\n",
      "max_pooling2d_1 (MaxPooling2 (None, 16, 16, 128)       0         \n",
      "_________________________________________________________________\n",
      "flatten (Flatten)            (None, 32768)             0         \n",
      "_________________________________________________________________\n",
      "dense (Dense)                (None, 22)                720918    \n",
      "=================================================================\n",
      "Total params: 982,614\n",
      "Trainable params: 981,846\n",
      "Non-trainable params: 768\n",
      "_________________________________________________________________\n"
     ]
    }
   ],
   "source": [
    "model.summary()"
   ]
  },
  {
   "cell_type": "code",
   "execution_count": null,
   "metadata": {},
   "outputs": [
    {
     "name": "stdout",
     "output_type": "stream",
     "text": [
      "Train on 423670 samples, validate on 47075 samples\n",
      "Epoch 1/500\n",
      "423552/423670 [============================>.] - ETA: 0s - loss: 2.6671 - accuracy: 0.1650\n",
      "Epoch 00001: saving model to training_1/cp.ckpt\n",
      "423670/423670 [==============================] - 120s 282us/sample - loss: 2.6670 - accuracy: 0.1650 - val_loss: 2.3356 - val_accuracy: 0.1689\n",
      "Epoch 2/500\n",
      "423552/423670 [============================>.] - ETA: 0s - loss: 2.3228 - accuracy: 0.1736\n",
      "Epoch 00002: saving model to training_1/cp.ckpt\n",
      "423670/423670 [==============================] - 113s 267us/sample - loss: 2.3228 - accuracy: 0.1736 - val_loss: 2.3170 - val_accuracy: 0.1766\n",
      "Epoch 3/500\n",
      "423616/423670 [============================>.] - ETA: 0s - loss: 2.2845 - accuracy: 0.1843\n",
      "Epoch 00003: saving model to training_1/cp.ckpt\n",
      "423670/423670 [==============================] - 113s 267us/sample - loss: 2.2845 - accuracy: 0.1843 - val_loss: 2.2667 - val_accuracy: 0.1897\n",
      "Epoch 4/500\n",
      "423616/423670 [============================>.] - ETA: 0s - loss: 2.2631 - accuracy: 0.1902\n",
      "Epoch 00004: saving model to training_1/cp.ckpt\n",
      "423670/423670 [==============================] - 113s 267us/sample - loss: 2.2631 - accuracy: 0.1902 - val_loss: 2.2708 - val_accuracy: 0.1880\n",
      "Epoch 5/500\n",
      "423616/423670 [============================>.] - ETA: 0s - loss: 2.2501 - accuracy: 0.1938\n",
      "Epoch 00005: saving model to training_1/cp.ckpt\n",
      "423670/423670 [==============================] - 113s 267us/sample - loss: 2.2501 - accuracy: 0.1938 - val_loss: 2.2433 - val_accuracy: 0.1950\n",
      "Epoch 6/500\n",
      "239488/423670 [===============>..............] - ETA: 47s - loss: 2.2395 - accuracy: 0.1963"
     ]
    }
   ],
   "source": [
    "model.fit(x_train,\n",
    "          y_train,\n",
    "          validation_data=(x_val, y_val),\n",
    "          epochs=num_epochs,\n",
    "          callbacks=cbks,\n",
    "          batch_size=batch_size)\n"
   ]
  },
  {
   "cell_type": "code",
   "execution_count": null,
   "metadata": {},
   "outputs": [],
   "source": [
    "# loss history for simple cnn model\n",
    "cnn_history = model.history.history\n",
    "plt.figure(figsize=(12, 8))\n",
    "plt.plot(cnn_history[\"val_loss\"], label=\"Validation loss\")\n",
    "plt.plot(cnn_history[\"loss\"], label=\"Training loss\")\n",
    "plt.legend();"
   ]
  },
  {
   "cell_type": "code",
   "execution_count": null,
   "metadata": {},
   "outputs": [],
   "source": [
    "# accuracy history\n",
    "plt.figure(figsize=(12, 8))\n",
    "plt.plot(cnn_history[\"val_acc\"], label=\"Validation accuracy\")\n",
    "plt.plot(cnn_history[\"acc\"], label=\"Training accuracy\")\n",
    "plt.legend();"
   ]
  },
  {
   "cell_type": "code",
   "execution_count": null,
   "metadata": {},
   "outputs": [],
   "source": []
  },
  {
   "cell_type": "markdown",
   "metadata": {},
   "source": [
    "## Warning, do not run until the model is done!!!"
   ]
  },
  {
   "cell_type": "code",
   "execution_count": null,
   "metadata": {},
   "outputs": [],
   "source": [
    "# final metrics for the model computed on the test set\n",
    "final_model_metrics = model.evaluate(x_test, y_test)"
   ]
  }
 ],
 "metadata": {
  "kernelspec": {
   "display_name": "Python 3",
   "language": "python",
   "name": "python3"
  },
  "language_info": {
   "codemirror_mode": {
    "name": "ipython",
    "version": 3
   },
   "file_extension": ".py",
   "mimetype": "text/x-python",
   "name": "python",
   "nbconvert_exporter": "python",
   "pygments_lexer": "ipython3",
   "version": "3.6.8"
  }
 },
 "nbformat": 4,
 "nbformat_minor": 2
}
